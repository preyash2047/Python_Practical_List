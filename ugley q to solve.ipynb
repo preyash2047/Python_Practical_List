{
 "cells": [
  {
   "cell_type": "markdown",
   "metadata": {},
   "source": [
    "Question 2\n",
    "Write a code to generate output array based on input array.\n",
    "Input Lists:\n",
    "pl, p2, p3, p4, p5, po, p7, p = 0,0,0,0,0,0,0,0\n",
    "trial = [\"pr_pl_t1\", \"pr_p2_t1\", \"pr_p3_t1\", \"pr_p4_t1\", \"pr_p5_t1\", \"pr_pb_t1\", \"pr_p7_t1\", \"pr_p8_t1\"]\n",
    "params = [ p1, p2, p3, p4, p5, p6, p7, p8 ]\n",
    "version = [\"p1VR\", \"p2VR\",\"p3VR\", \"p4VR\", \"p5VR\", \"p6VR\", \"p7VR\", \"p8VR\"]\n",
    "phase = [\"p1PH\", \"p2PH\", \"p3PH\",\"p4PH\", \"p5PH\", \"p6PH\", \"p7PH\", \"p8PH\"]\n",
    "\n",
    "Output Lists:\n",
    "prelds = ['p VR', 'p1PH', 'pr_pl_tl', 'pr_pl_t2', 'pr_pl_t3', 'pr_pl_t4', 'pr_pl_15', 'pr_pl_t6', 'pr_pl_17',\n",
    "\"pr_pl_t8', 'p2VR', 'p2PH', 'pr_p2_tl', 'pr_p2_12', 'pr_p2_13', 'pr_p2_14\",\"pr_p2_05', 'pr_p2_t6',\n",
    "pr_p2_17', 'pr_p2_18', p3VR', 'p3PH', pr_p3_tl', 'pr_p3_12', 'pr_p3_13', 'pr_p3_14', 'pr_p3_t5,\n",
    "pr_p3_16, 'pr_p3_17, pr_p3_18', 'p4VR: 'p4PH', 'pr_p4_tl, pr_P4_12', pr_p4_13, 'pr_p4_14\n",
    "pr_p4_15, 'pr_p4_16, 'pr_p4_17', 'pr_p4_18', 'pSVR', 'p5PH', 'pr_ps_t1', 'pr_p5_12', 'pr_p5_13',\n",
    "pr_p5_14', 'pr_p5_15,\"pr_p5_16, 'pr_p5_17', 'pr_p5_18', 'poVR', 'p6PH', 'pr_p6_tl', 'pr_p6_12\n",
    "pr_p6_13', 'pr_p6_14', 'pr_p6_15, 'pr_p6_16, 'pr_p6_17', pr_p6_18', p7VR', p7PH', 'pr_p7_t1',\n",
    "pr_p7_12', 'pr_p7_13', 'pr_p7_14', 'pr_p7_15, 'pr_p7_16, 'pr_p7_17', 'pr_p7_18\", p8VR: p8PH',\n",
    "pr_p8_t1', 'pr_p8_12', 'pr_p8_13, pr_p8_14', 'pr_p8_15', 'pr_p8_16, 'pr_p8_17', 'pr_p8_18\")]\n",
    "\n",
    "postIds = ['pIVR', 'PIPH', 'post_pl_t1', 'post_pl_12', 'post_pl_13', 'post_pl_t4', 'post_pl_15', 'post_pl_t6',\n",
    "\"post_pl_17', 'post_pl_t8', 'p2VR', 'p2PH', 'post_p2_tl', post_p2_12', 'post_p2_13', 'post_p2_14',\n",
    "\"post_p2_15', 'post_p2_t6', 'post_p2_17', 'post_p2_18\", \"p3 VR', 'p3PH', 'post_p3_tl', 'post_p3_12',\n",
    "post_p3_t3', 'post_p3_14', 'post_p3_15', 'post_p3_t6, post_p3_17'. post_p3_18', 'p4VR', P4PH',\n",
    "post_p4_tl', 'post_p4_12', 'post_p4_t3', 'post_p4_14', post_p4_15', 'post_p4_16', post_p4_17\",\n",
    "post_p4_18', 'pSVR', 'p5PH', 'post_p5_tl', post_p5_12', post_p5_13', 'post_p5_t4', 'post_ps_t5',\n",
    "post_p5_16, post_p5_17', 'post_p5_18', 'p6VR', 'p6PH', 'post_pb_t1', 'post_pb_12', 'post_p6_13',\n",
    "\"post_p6_14', 'post_pb_t5', 'post_p6_16', 'post_p6_17, post_pb_t8', p7VR', 'p7PH', 'post_p7_t1',\n",
    "\"post_p7_12\",\"post_p7_13', 'post_p7_14', 'post_p7_15', post_p7_16', 'post_p7_17\",\"post_p7_18', 'p8VR',\n",
    "p&PH\", \"post_p8_ul', 'post_p8_12', 'post_p8_13', post_p8_14', 'post_p8_15', 'post_p8_16', 'post_p8_17',\n",
    "'post_p8_18')]\n",
    "\n",
    "Note: Only use the given input lists to generate the prelds and postlds. Do not use any other string values\n",
    "for the same. (Use of the integer variables for the FOR LOOP iteration is not restricted.)"
   ]
  },
  {
   "cell_type": "markdown",
   "metadata": {},
   "source": [
    "# Variable Diclleration"
   ]
  },
  {
   "cell_type": "code",
   "execution_count": 8,
   "metadata": {},
   "outputs": [],
   "source": [
    "p1, p2, p3, p4, p5, p6, p7, p8 = 0,0,0,0,0,0,0,0\n",
    "trial = [\"pr_p1_t1\", \"pr_p2_t1\", \"pr_p3_t1\", \"pr_p4_t1\", \"pr_p5_t1\", \"pr_p6_t1\", \"pr_p7_t1\", \"pr_p8_t1\"]\n",
    "params = [ p1, p2, p3, p4, p5, p6, p7, p8 ]\n",
    "version = [\"p1VR\", \"p2VR\",\"p3VR\", \"p4VR\", \"p5VR\", \"p6VR\", \"p7VR\", \"p8VR\"]\n",
    "phase = [\"p1PH\", \"p2PH\", \"p3PH\",\"p4PH\", \"p5PH\", \"p6PH\", \"p7PH\", \"p8PH\"]"
   ]
  },
  {
   "cell_type": "markdown",
   "metadata": {},
   "source": [
    "# Logic:\n",
    "preIds = for loop: version, phase,trial+1\n",
    "<br>\n",
    "postIds = hange where the \"pr\" is by \"post\" using foreach"
   ]
  },
  {
   "cell_type": "markdown",
   "metadata": {},
   "source": [
    "# Answer"
   ]
  },
  {
   "cell_type": "code",
   "execution_count": 18,
   "metadata": {},
   "outputs": [
    {
     "name": "stdout",
     "output_type": "stream",
     "text": [
      "preIds =  ['p1VR', 'p1PH', 'pr_p1_t1', 'pr_p1_t2', 'pr_p1_t3', 'pr_p1_t4', 'pr_p1_t5', 'pr_p1_t6', 'pr_p1_t7', 'pr_p1_t8', 'p2VR', 'p2PH', 'pr_p2_t1', 'pr_p2_t2', 'pr_p2_t3', 'pr_p2_t4', 'pr_p2_t5', 'pr_p2_t6', 'pr_p2_t7', 'pr_p2_t8', 'p3VR', 'p3PH', 'pr_p3_t1', 'pr_p3_t2', 'pr_p3_t3', 'pr_p3_t4', 'pr_p3_t5', 'pr_p3_t6', 'pr_p3_t7', 'pr_p3_t8', 'p4VR', 'p4PH', 'pr_p4_t1', 'pr_p4_t2', 'pr_p4_t3', 'pr_p4_t4', 'pr_p4_t5', 'pr_p4_t6', 'pr_p4_t7', 'pr_p4_t8', 'p5VR', 'p5PH', 'pr_p5_t1', 'pr_p5_t2', 'pr_p5_t3', 'pr_p5_t4', 'pr_p5_t5', 'pr_p5_t6', 'pr_p5_t7', 'pr_p5_t8', 'p6VR', 'p6PH', 'pr_p6_t1', 'pr_p6_t2', 'pr_p6_t3', 'pr_p6_t4', 'pr_p6_t5', 'pr_p6_t6', 'pr_p6_t7', 'pr_p6_t8', 'p7VR', 'p7PH', 'pr_p7_t1', 'pr_p7_t2', 'pr_p7_t3', 'pr_p7_t4', 'pr_p7_t5', 'pr_p7_t6', 'pr_p7_t7', 'pr_p7_t8', 'p8VR', 'p8PH', 'pr_p8_t1', 'pr_p8_t2', 'pr_p8_t3', 'pr_p8_t4', 'pr_p8_t5', 'pr_p8_t6', 'pr_p8_t7', 'pr_p8_t8']\n",
      "postIds =  ['p1VR', 'p1PH', 'post_p1_t1', 'post_p1_t2', 'post_p1_t3', 'post_p1_t4', 'post_p1_t5', 'post_p1_t6', 'post_p1_t7', 'post_p1_t8', 'p2VR', 'p2PH', 'post_p2_t1', 'post_p2_t2', 'post_p2_t3', 'post_p2_t4', 'post_p2_t5', 'post_p2_t6', 'post_p2_t7', 'post_p2_t8', 'p3VR', 'p3PH', 'post_p3_t1', 'post_p3_t2', 'post_p3_t3', 'post_p3_t4', 'post_p3_t5', 'post_p3_t6', 'post_p3_t7', 'post_p3_t8', 'p4VR', 'p4PH', 'post_p4_t1', 'post_p4_t2', 'post_p4_t3', 'post_p4_t4', 'post_p4_t5', 'post_p4_t6', 'post_p4_t7', 'post_p4_t8', 'p5VR', 'p5PH', 'post_p5_t1', 'post_p5_t2', 'post_p5_t3', 'post_p5_t4', 'post_p5_t5', 'post_p5_t6', 'post_p5_t7', 'post_p5_t8', 'p6VR', 'p6PH', 'post_p6_t1', 'post_p6_t2', 'post_p6_t3', 'post_p6_t4', 'post_p6_t5', 'post_p6_t6', 'post_p6_t7', 'post_p6_t8', 'p7VR', 'p7PH', 'post_p7_t1', 'post_p7_t2', 'post_p7_t3', 'post_p7_t4', 'post_p7_t5', 'post_p7_t6', 'post_p7_t7', 'post_p7_t8', 'p8VR', 'p8PH', 'post_p8_t1', 'post_p8_t2', 'post_p8_t3', 'post_p8_t4', 'post_p8_t5', 'post_p8_t6', 'post_p8_t7', 'post_p8_t8']\n"
     ]
    }
   ],
   "source": [
    "#for preID\n",
    "preIds = []\n",
    "for i in range(len(version)):\n",
    "    preIds.append(version[i])\n",
    "    preIds.append(phase[i])\n",
    "    for k in range(1, len(trial)+1):\n",
    "        preIds.append(str(\"pr_\" + version[i][0:2] + \"_t\" + str(k)))\n",
    "\n",
    "# for postID\n",
    "postIds = []\n",
    "for i in range(len(version)):\n",
    "    postIds.append(version[i])\n",
    "    postIds.append(phase[i])\n",
    "    for k in range(1, len(trial)+1):\n",
    "        postIds.append(str(\"post_\" + version[i][0:2] + \"_t\" + str(k)))\n",
    "\n",
    "        \n",
    "print(\"preIds = \",preIds)\n",
    "print(\"postIds = \",postIds)"
   ]
  },
  {
   "cell_type": "code",
   "execution_count": null,
   "metadata": {},
   "outputs": [],
   "source": []
  }
 ],
 "metadata": {
  "kernelspec": {
   "display_name": "Python 3",
   "language": "python",
   "name": "python3"
  },
  "language_info": {
   "codemirror_mode": {
    "name": "ipython",
    "version": 3
   },
   "file_extension": ".py",
   "mimetype": "text/x-python",
   "name": "python",
   "nbconvert_exporter": "python",
   "pygments_lexer": "ipython3",
   "version": "3.7.7"
  }
 },
 "nbformat": 4,
 "nbformat_minor": 4
}
