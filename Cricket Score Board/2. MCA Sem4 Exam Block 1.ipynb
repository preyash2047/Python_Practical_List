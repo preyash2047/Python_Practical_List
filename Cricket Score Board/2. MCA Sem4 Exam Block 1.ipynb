{
 "cells": [
  {
   "cell_type": "markdown",
   "metadata": {},
   "source": [
    "# Cricket Batting Score Board Program"
   ]
  },
  {
   "cell_type": "code",
   "execution_count": 1,
   "metadata": {},
   "outputs": [],
   "source": [
    "class Cricket:\n",
    "    #defing class variable\n",
    "    teamDic = {} # team id and team name\n",
    "    teamPlayers = {} #team id and team player list\n",
    "    matchDic = {} #match id and team list\n",
    "    matchScore = {} #match id and list of runs as list [totalScore,noOf4,noOf6,[player,player] score] \n",
    "    \n",
    "    def addTeam(self):\n",
    "        if len(Cricket.teamDic) > 0:\n",
    "            print(\"List of Teams\")\n",
    "            for i in Cricket.teamDic:\n",
    "                print(f'Team ID: {i} Team Name: {Cricket.teamDic[i]}')\n",
    "\n",
    "        print(\"Enter Team Details\")\n",
    "        tempId = int(input('Team ID: '))\n",
    "        Cricket.teamDic[tempId] = input('Team Name: ').upper()\n",
    "        Cricket.teamPlayers[tempId] = []\n",
    "        print(\"Best of luck for the Match!\")\n",
    "        print(\"Would you like to add Players in Team Right now?\\nYou can do it latter.\")\n",
    "        choice = str(input(\"To add Playes Enter 'y' else 'n'\")).lower()\n",
    "        if choice == 'y': Cricket.addPlayer(self)\n",
    "    \n",
    "    def addPlayer(self):\n",
    "        print(\"List of Teams\")\n",
    "        for i in Cricket.teamDic:\n",
    "            print(f'Team ID: {i} Team Name: {Cricket.teamDic[i]}')\n",
    "        selectTeam = int(input(\"Enter Team ID: \"))\n",
    "        \n",
    "        #entering the player names\n",
    "        choice = int(input(\"Enter no of Player you wish to add: \"))\n",
    "        for i in range(choice):\n",
    "            Cricket.teamPlayers[selectTeam].append(input(\"Enter Name: \").upper())\n",
    "        print(\"Team players added Succesfully\")\n",
    "    \n",
    "    def viewPlayer(self):\n",
    "        print(\"List of Teams\")\n",
    "        for i in Cricket.teamDic:\n",
    "            print(f'Team ID: {i} Team Name: {Cricket.teamDic[i]}')\n",
    "        selectTeam = int(input(\"Enter Team ID you wish to view List of Player: \"))\n",
    "        print(f\"List of Players in {Cricket.teamDic[selectTeam]} Team\")\n",
    "        for i in range(len(Cricket.teamPlayers[selectTeam])):\n",
    "            print(f'{i+1} Player Name: {Cricket.teamPlayers[selectTeam][i]}')\n",
    "            \n",
    "    def startMatch(self):\n",
    "        print(\"List of Teams\")\n",
    "        for i in Cricket.teamDic:\n",
    "            print(f'Team ID: {i} Team Name: {Cricket.teamDic[i]}')\n",
    "        selectTeam1 = int(input(\"Enter First Team ID: \"))\n",
    "        selectTeam2 = int(input(\"Enter Second Team ID: \"))\n",
    "        self.matchNo = int(input(\"Enter Match No: \"))\n",
    "        Cricket.matchDic[self.matchNo] = str(Cricket.teamDic[selectTeam1] + ' vs ' + Cricket.teamDic[selectTeam2])\n",
    "        \n",
    "        print(f\"Team ID {selectTeam1} will go for batting\")\n",
    "        self.PresentTeam = selectTeam1\n",
    "        Cricket.throwBall(self)\n",
    "\n",
    "        print(f\"Now {selectTeam2} will go for batting\")\n",
    "        self.PresentTeam = selectTeam2\n",
    "        Cricket.throwBall(self)\n",
    "\n",
    "    def throwBall(self):\n",
    "        noOfOver = 1 #int(input(\"Enter No of Overs: \"))\n",
    "        noOfBallInOver = 6 * noOfOver\n",
    "        \n",
    "        totalScore = 0\n",
    "        noOf4 = 0\n",
    "        noOf6 = 0\n",
    "        individualPlayerscore = {} #player id and score \n",
    "        Player1 = int(input(f\"Enter Player 1 ID: \"))\n",
    "        Player2 = int(input(f\"Enter Player 2 ID: \"))\n",
    "        presentPlayerID = Player1\n",
    "        individualPlayerscore[Player1] = 0\n",
    "        individualPlayerscore[Player2] = 0\n",
    "        for i in range(noOfBallInOver):\n",
    "            \n",
    "            if input(f\"Player position changed ?\\nif yes enter y else n: \").lower() == 'y':\n",
    "                if presentPlayerID == Player1:\n",
    "                    presentPlayerID = Player2\n",
    "                else: presentPlayerID = Player1\n",
    "                    \n",
    "            run = int(input(f\"Enter Run Secured in {i+1} no ball: \"))\n",
    "            totalScore += run\n",
    "            individualPlayerscore[presentPlayerID] += run \n",
    "            if run == 4: noOf4 += 1\n",
    "            elif run == 6: noOf6 += 1\n",
    "            elif run == 0:\n",
    "                print(f\"Player {Cricket.teamPlayers[self.PresentTeam][presentPlayerID]} is out\")\n",
    "                if Player1 == presentPlayerID:\n",
    "                    print(f\"List of Players in {Cricket.teamDic[self.PresentTeam]} Team\")\n",
    "                    for i in range(len(Cricket.teamPlayers[self.PresentTeam])):\n",
    "                        print(f'{i+1} Player Name: {Cricket.teamPlayers[self.PresentTeam][i]}')\n",
    "                    Player1 = int(input(f\"Enter Player 1 ID: \"))\n",
    "                    individualPlayerscore[Player1] = 0\n",
    "                else:\n",
    "                    print(f\"List of Players in {Cricket.teamDic[self.PresentTeam]} Team\")\n",
    "                    for i in range(len(Cricket.teamPlayers[self.PresentTeam])):\n",
    "                        print(f'{i+1} Player Name: {Cricket.teamPlayers[self.PresentTeam][i]}')\n",
    "                    Player2 = int(input(f\"Enter Player 2 ID: \"))\n",
    "                    individualPlayerscore[Player2] = 0\n",
    "        \n",
    "        #match id and list of runs as list [totalScore,noOf4,noOf6,[player,player] score] \n",
    "        Cricket.matchScore[self.matchNo] = [totalScore,noOf4,noOf6,individualPlayerscore] \n",
    "        \n",
    "    def scoreBoard(self):\n",
    "        if len(Cricket.matchDic) > 0:\n",
    "            print(\"List of Matches happed till now\")\n",
    "            for i in Cricket.matchDic:\n",
    "                print(f\"Match ID: {i} Match Name: {Cricket.matchDic[i]}\")\n",
    "            selectMatch = int(input(\"Enter Match No to Show Score: \"))\n",
    "            print(f\"Total Score: {Cricket.matchScore[selectMatch][0]}\\nNo of Fours: {Cricket.matchScore[selectMatch][1]}\\nNo of Six: {Cricket.matchScore[selectMatch][2]}\")\n",
    "            print(\"Individual Plahyer Score:\")\n",
    "            for j in Cricket.matchScore[selectMatch][3]:\n",
    "                print(f\"Player ID: {j} Score: {Cricket.matchScore[selectMatch][3][j]}\")        \n",
    "        else: print(\"No Matches Played yet\")"
   ]
  },
  {
   "cell_type": "code",
   "execution_count": 2,
   "metadata": {},
   "outputs": [],
   "source": [
    "#creating object\n",
    "obj = Cricket()"
   ]
  },
  {
   "cell_type": "markdown",
   "metadata": {},
   "source": [
    "## calling methods"
   ]
  },
  {
   "cell_type": "markdown",
   "metadata": {},
   "source": [
    "### Add Team"
   ]
  },
  {
   "cell_type": "code",
   "execution_count": 4,
   "metadata": {},
   "outputs": [
    {
     "name": "stdout",
     "output_type": "stream",
     "text": [
      "List of Teams\n",
      "Team ID: 1 Team Name: INDIA\n",
      "Enter Team Details\n",
      "Team ID: 2\n",
      "Team Name: Pakistan\n",
      "Best of luck for the Match!\n",
      "Would you like to add Players in Team Right now?\n",
      "You can do it latter.\n",
      "To add Playes Enter 'y' else 'n'n\n"
     ]
    }
   ],
   "source": [
    "obj.addTeam()"
   ]
  },
  {
   "cell_type": "markdown",
   "metadata": {},
   "source": [
    "### Add Players"
   ]
  },
  {
   "cell_type": "code",
   "execution_count": 5,
   "metadata": {},
   "outputs": [
    {
     "name": "stdout",
     "output_type": "stream",
     "text": [
      "List of Teams\n",
      "Team ID: 1 Team Name: INDIA\n",
      "Team ID: 2 Team Name: PAKISTAN\n",
      "Enter Team ID: 2\n",
      "Enter no of Player you wish to add: 3\n",
      "Enter Name: Afgan\n",
      "Enter Name: Sahil\n",
      "Enter Name: Moinudin\n",
      "Team players added Succesfully\n"
     ]
    }
   ],
   "source": [
    "obj.addPlayer()"
   ]
  },
  {
   "cell_type": "markdown",
   "metadata": {},
   "source": [
    "### View Player"
   ]
  },
  {
   "cell_type": "code",
   "execution_count": 7,
   "metadata": {},
   "outputs": [
    {
     "name": "stdout",
     "output_type": "stream",
     "text": [
      "List of Teams\n",
      "Team ID: 1 Team Name: INDIA\n",
      "Team ID: 2 Team Name: PAKISTAN\n",
      "Enter Team ID you wish to view List of Player: 2\n",
      "List of Players in PAKISTAN Team\n",
      "1 Player Name: AFGAN\n",
      "2 Player Name: SAHIL\n",
      "3 Player Name: MOINUDIN\n"
     ]
    }
   ],
   "source": [
    "obj.viewPlayer()"
   ]
  },
  {
   "cell_type": "markdown",
   "metadata": {},
   "source": [
    "### Start Match"
   ]
  },
  {
   "cell_type": "code",
   "execution_count": 8,
   "metadata": {},
   "outputs": [
    {
     "name": "stdout",
     "output_type": "stream",
     "text": [
      "List of Teams\n",
      "Team ID: 1 Team Name: INDIA\n",
      "Team ID: 2 Team Name: PAKISTAN\n",
      "Enter First Team ID: 1\n",
      "Enter Second Team ID: 2\n",
      "Enter Match No: 1001\n",
      "Team ID 1 will go for batting\n",
      "Enter Player 1 ID: 1\n",
      "Enter Player 2 ID: 3\n",
      "Player position changed ?\n",
      "if yes enter y else n: n\n",
      "Enter Run Secured in 1 no ball: 6\n",
      "Player position changed ?\n",
      "if yes enter y else n: n\n",
      "Enter Run Secured in 2 no ball: 2\n",
      "Player position changed ?\n",
      "if yes enter y else n: n\n",
      "Enter Run Secured in 3 no ball: 6\n",
      "Player position changed ?\n",
      "if yes enter y else n: n\n",
      "Enter Run Secured in 4 no ball: 6\n",
      "Player position changed ?\n",
      "if yes enter y else n: y\n",
      "Enter Run Secured in 5 no ball: 4\n",
      "Player position changed ?\n",
      "if yes enter y else n: n\n",
      "Enter Run Secured in 6 no ball: 4\n",
      "Now 2 will go for batting\n",
      "Enter Player 1 ID: 2\n",
      "Enter Player 2 ID: 3\n",
      "Player position changed ?\n",
      "if yes enter y else n: n\n",
      "Enter Run Secured in 1 no ball: 6\n",
      "Player position changed ?\n",
      "if yes enter y else n: 2\n",
      "Enter Run Secured in 2 no ball: 1\n",
      "Player position changed ?\n",
      "if yes enter y else n: n\n",
      "Enter Run Secured in 3 no ball: 5\n",
      "Player position changed ?\n",
      "if yes enter y else n: n\n",
      "Enter Run Secured in 4 no ball: 6\n",
      "Player position changed ?\n",
      "if yes enter y else n: y\n",
      "Enter Run Secured in 5 no ball: 4\n",
      "Player position changed ?\n",
      "if yes enter y else n: n\n",
      "Enter Run Secured in 6 no ball: 4\n"
     ]
    }
   ],
   "source": [
    "obj.startMatch()"
   ]
  },
  {
   "cell_type": "markdown",
   "metadata": {},
   "source": [
    "### View Score Board"
   ]
  },
  {
   "cell_type": "code",
   "execution_count": 9,
   "metadata": {},
   "outputs": [
    {
     "name": "stdout",
     "output_type": "stream",
     "text": [
      "List of Matches happed till now\n",
      "Match ID: 1001 Match Name: INDIA vs PAKISTAN\n",
      "Enter Match No to Show Score: 1001\n",
      "Total Score: 26\n",
      "No of Fours: 2\n",
      "No of Six: 2\n",
      "Individual Plahyer Score:\n",
      "Player ID: 2 Score: 18\n",
      "Player ID: 3 Score: 8\n"
     ]
    }
   ],
   "source": [
    "obj.scoreBoard()"
   ]
  },
  {
   "cell_type": "code",
   "execution_count": null,
   "metadata": {},
   "outputs": [],
   "source": []
  }
 ],
 "metadata": {
  "kernelspec": {
   "display_name": "Python 3",
   "language": "python",
   "name": "python3"
  },
  "language_info": {
   "codemirror_mode": {
    "name": "ipython",
    "version": 3
   },
   "file_extension": ".py",
   "mimetype": "text/x-python",
   "name": "python",
   "nbconvert_exporter": "python",
   "pygments_lexer": "ipython3",
   "version": "3.8.1"
  }
 },
 "nbformat": 4,
 "nbformat_minor": 4
}
