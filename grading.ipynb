{
 "cells": [
  {
   "cell_type": "code",
   "execution_count": 242,
   "metadata": {},
   "outputs": [],
   "source": [
    "file = open(r\"C:\\Users\\Preyash Patel\\Desktop\\students_data.txt\",\"r\")\n",
    "data = file.read()\n",
    "file.close()"
   ]
  },
  {
   "cell_type": "code",
   "execution_count": 243,
   "metadata": {},
   "outputs": [
    {
     "name": "stdout",
     "output_type": "stream",
     "text": [
      "LAST NAME\tFIRST NAME\tBIRTH DATE\tID\tCLASS\tMAJOR\tHOMEWORK SCORES \tEXAM SCORES\n",
      "Jones\t\tShelia\t\t06 21 1992\t3472\tFR\tCS\t87 89 65 90 91 93 79\t91 94 90\n",
      "Bain\t\tRobert\t\t11 06 1991\t1754\tSO\tCS\t77 88 99 95 93 86 78\t83 95 87\n",
      "Smith\t\tPamela\t\t07 18 1990\t1888\tSO\tCS\t87 92 95 92 94 88 89\t79 85 89\n",
      "Hall\t\tSherry\t\t08 07 1993\t7640\tSR\tBIO\t85 89 75 83 91 95 92\t91 81 84\n",
      "Stokes\t\tJerry\t\t06 25 1990\t2311\tJR\tCS\t83 89 85 88 91 93 95\t85 95 90\n",
      "Clayton\t\tRandy\t\t05 21 1992\t9077\tJR\tEE\t80 86 95 89 97 83 96\t78 83 90\n",
      "Chancellor\tJanet\t\t02 28 1991\t2341\tSO\tCHEM\t87 99 95 88 97 90 85\t82 88 94\n",
      "Adams\t\tMark\t\t04 16 1989\t1764\tFR\tCS\t96 97 99 91 93 89 98\t95 97 96\n",
      "Hooten\t\tLamar\t\t10 31 1988\t8734\tSO\tCS\t91 89 77 90 91 90 84\t91 85 86\n",
      "Mintor\t\tLara\t\t10 31 1993\t8734\tFR\tMATH\t88 85 79 93 92 81 86\t95 82 89\n"
     ]
    }
   ],
   "source": [
    "print(data)"
   ]
  },
  {
   "cell_type": "code",
   "execution_count": 244,
   "metadata": {},
   "outputs": [],
   "source": [
    "dataset = []\n",
    "for i in data.replace(\"\\t\\t\",\"\\t\").split(\"\\n\"):\n",
    "    temp = []\n",
    "    for j in i.split(\"\\t\"):\n",
    "        temp.append(j)\n",
    "    dataset.append(temp)   "
   ]
  },
  {
   "cell_type": "code",
   "execution_count": 245,
   "metadata": {},
   "outputs": [],
   "source": [
    "#Grade = (average of homework) * 0.40 + (average of ) * 0.60\n",
    "def grade(l):\n",
    "    hw = [int(i) for i in l[-2].split()]\n",
    "    sc = [int(i) for i in l[-1].split()]\n",
    "    return round(((sum(hw)/len(hw)) *.4) + ((sum(sc)/len(sc)) *.6),2)"
   ]
  },
  {
   "cell_type": "code",
   "execution_count": 246,
   "metadata": {},
   "outputs": [],
   "source": [
    "def result(l):\n",
    "    hw = [int(i) for i in l[-2].split()]\n",
    "    sc = [int(i) for i in l[-1].split()]\n",
    "    for i in range(len(dataset[0])):\n",
    "        if i == 6:\n",
    "            print(f\"{dataset[0][i]} : {round(sum(hw)/len(hw),2)}\")\n",
    "        elif i == 7:\n",
    "            print(f\"{dataset[0][i]} : {round(sum(sc)/len(sc),2)}\")\n",
    "            print(f\"Grade : {grade(l)}\")\n",
    "        else:\n",
    "            print(f\"{dataset[0][i]} : {l[i]}\")"
   ]
  },
  {
   "cell_type": "code",
   "execution_count": 241,
   "metadata": {},
   "outputs": [
    {
     "name": "stdout",
     "output_type": "stream",
     "text": [
      "LAST NAME : Jones\n",
      "FIRST NAME : Shelia\n",
      "BIRTH DATE : 06 21 1992\n",
      "ID : 3472\n",
      "CLASS : FR\n",
      "MAJOR : CS\n",
      "HOMEWORK SCORES  : 84.86\n",
      "EXAM SCORES : 91.67\n",
      "Grade : 88.94\n"
     ]
    }
   ],
   "source": [
    "print(result(dataset[1]))"
   ]
  },
  {
   "cell_type": "code",
   "execution_count": 247,
   "metadata": {},
   "outputs": [
    {
     "name": "stdout",
     "output_type": "stream",
     "text": [
      "LAST NAME : Hall\n",
      "FIRST NAME : Sherry\n",
      "BIRTH DATE : 08 07 1993\n",
      "ID : 7640\n",
      "CLASS : SR\n",
      "MAJOR : BIO\n",
      "HOMEWORK SCORES  : 87.14\n",
      "EXAM SCORES : 85.33\n",
      "Grade : 86.06\n"
     ]
    }
   ],
   "source": [
    "print(result(dataset[4]))"
   ]
  }
 ],
 "metadata": {
  "kernelspec": {
   "display_name": "Python 3",
   "language": "python",
   "name": "python3"
  },
  "language_info": {
   "codemirror_mode": {
    "name": "ipython",
    "version": 3
   },
   "file_extension": ".py",
   "mimetype": "text/x-python",
   "name": "python",
   "nbconvert_exporter": "python",
   "pygments_lexer": "ipython3",
   "version": "3.8.5"
  }
 },
 "nbformat": 4,
 "nbformat_minor": 4
}
