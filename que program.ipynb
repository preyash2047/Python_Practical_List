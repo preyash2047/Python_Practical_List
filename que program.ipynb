{
 "cells": [
  {
   "cell_type": "code",
   "execution_count": 457,
   "metadata": {},
   "outputs": [],
   "source": [
    "import numpy as np\n",
    "class Koe:\n",
    "    def __init__(self, kapasitet):\n",
    "        self.__liste = np.zeros(kapasitet, dtype=object)\n",
    "        self.__neste = 0\n",
    "        self.__forste = 0\n",
    "        self.__lengde = 0\n",
    "    # Adds an item to the end of the queue\n",
    "    def enqueue(self, element):\n",
    "        if self.__lengde >= len(self.__liste):\n",
    "            raise ValueError(\"Bufferet er fullt\")\n",
    "        self.__liste[self.__neste] = element\n",
    "        self.__neste += 1\n",
    "        self.__lengde += 1\n",
    "        self.__neste %= len(self.__liste) # if self.__neste >= len(self.__liste): self.__neste = 0\n",
    "    # Removes an item from the beginning of the queue\n",
    "    def dequeue(self):\n",
    "        if self.__lengde <= 0:\n",
    "            raise ValueError(\"Bufferet er tomt\")\n",
    "        verdi = self.__liste[self.__forste]\n",
    "        self.__forste += 1\n",
    "        self.__lengde -= 1\n",
    "        self.__forste %= len(self.__liste)\n",
    "        return verdi\n",
    "    # Returns the first item in the queue without removing it\n",
    "    def peek(self):\n",
    "        if self.__lengde <= 0:\n",
    "            raise ValueError(\"Bufferet er tomt\")\n",
    "        return self.__liste[self.__forste]\n",
    "    def __len__(self):\n",
    "        return self.__lengde\n",
    "    \n",
    "    def get(self, index):\n",
    "        return self.__liste[index]\n",
    "        \n",
    "    def listMe(self):\n",
    "        return self.__liste.tolist()"
   ]
  },
  {
   "cell_type": "code",
   "execution_count": 458,
   "metadata": {},
   "outputs": [],
   "source": [
    "k = Koe(2)"
   ]
  },
  {
   "cell_type": "code",
   "execution_count": 459,
   "metadata": {},
   "outputs": [],
   "source": [
    "k.enqueue(22)\n",
    "k.enqueue(24)"
   ]
  },
  {
   "cell_type": "code",
   "execution_count": 460,
   "metadata": {},
   "outputs": [
    {
     "data": {
      "text/plain": [
       "22"
      ]
     },
     "execution_count": 460,
     "metadata": {},
     "output_type": "execute_result"
    }
   ],
   "source": [
    "k.dequeue()"
   ]
  },
  {
   "cell_type": "code",
   "execution_count": 461,
   "metadata": {},
   "outputs": [
    {
     "data": {
      "text/plain": [
       "24"
      ]
     },
     "execution_count": 461,
     "metadata": {},
     "output_type": "execute_result"
    }
   ],
   "source": [
    "k.peek()"
   ]
  },
  {
   "cell_type": "code",
   "execution_count": 462,
   "metadata": {},
   "outputs": [
    {
     "data": {
      "text/plain": [
       "1"
      ]
     },
     "execution_count": 462,
     "metadata": {},
     "output_type": "execute_result"
    }
   ],
   "source": [
    "k.__len__()"
   ]
  },
  {
   "cell_type": "code",
   "execution_count": 463,
   "metadata": {},
   "outputs": [
    {
     "data": {
      "text/plain": [
       "22"
      ]
     },
     "execution_count": 463,
     "metadata": {},
     "output_type": "execute_result"
    }
   ],
   "source": [
    "k.get(0)"
   ]
  },
  {
   "cell_type": "code",
   "execution_count": 464,
   "metadata": {},
   "outputs": [
    {
     "data": {
      "text/plain": [
       "[22, 24]"
      ]
     },
     "execution_count": 464,
     "metadata": {},
     "output_type": "execute_result"
    }
   ],
   "source": [
    "k.listMe()"
   ]
  },
  {
   "cell_type": "code",
   "execution_count": null,
   "metadata": {},
   "outputs": [],
   "source": []
  }
 ],
 "metadata": {
  "kernelspec": {
   "display_name": "Python 3",
   "language": "python",
   "name": "python3"
  },
  "language_info": {
   "codemirror_mode": {
    "name": "ipython",
    "version": 3
   },
   "file_extension": ".py",
   "mimetype": "text/x-python",
   "name": "python",
   "nbconvert_exporter": "python",
   "pygments_lexer": "ipython3",
   "version": "3.8.5"
  }
 },
 "nbformat": 4,
 "nbformat_minor": 4
}
