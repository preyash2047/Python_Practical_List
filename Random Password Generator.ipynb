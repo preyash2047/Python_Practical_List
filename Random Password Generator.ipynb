{
 "cells": [
  {
   "cell_type": "code",
   "execution_count": 184,
   "metadata": {},
   "outputs": [],
   "source": [
    "def passGen():\n",
    "    #importing random library\n",
    "    import random\n",
    "    #definign abcd a to z with ANCI code\n",
    "    abcd = [i for i in range(97,123)]\n",
    "    #extanding abcd with A to Z with ANCI code\n",
    "    abcd.extend([i for i in range(65,91)])\n",
    "    #definign 0 to 9 with ANCI code\n",
    "    oneTwoThree = [i for i in range(48,58)]\n",
    "    #definign $, & and # with ANCI code\n",
    "    sChar = [26,23,25]\n",
    "    #password min length\n",
    "    minLength = 6\n",
    "    #password max length\n",
    "    maxLength = 16\n",
    "    \n",
    "    \n",
    "    #defining function to select randomley the list from list of list\n",
    "    def selectList():\n",
    "        listOfList = [abcd,oneTwoThree, sChar]\n",
    "        return listOfList[random.randint(0,2)]\n",
    "    \n",
    "    #random value generater function from list provided\n",
    "    def randValue(l):\n",
    "        return l[random.randint(0,len(l)-1)]\n",
    "    \n",
    "    #defing final output as string\n",
    "    #calling abcd's random value as specified in question to have staring char as latter\n",
    "    password = \"\" + chr(randValue(abcd))\n",
    "    \n",
    "    #definign password lengh randomly\n",
    "    passwordLength = random.randint(minLength,maxLength)\n",
    "    \n",
    "    #for loop to complet it\n",
    "    for i in range(passwordLength):\n",
    "        password += chr(randValue(selectList())) + \"\"\n",
    "    #returning the password string\n",
    "    return password"
   ]
  },
  {
   "cell_type": "code",
   "execution_count": 190,
   "metadata": {},
   "outputs": [
    {
     "data": {
      "text/plain": [
       "'ok\\x19\\x1a\\x17\\x19rb9\\x19'"
      ]
     },
     "execution_count": 190,
     "metadata": {},
     "output_type": "execute_result"
    }
   ],
   "source": [
    "passGen()"
   ]
  },
  {
   "cell_type": "code",
   "execution_count": 186,
   "metadata": {},
   "outputs": [
    {
     "data": {
      "text/plain": [
       "'a\\x17e2\\x17n\\x1a7\\x1a\\x19\\x1a\\x1a\\x17Z6\\x17'"
      ]
     },
     "execution_count": 186,
     "metadata": {},
     "output_type": "execute_result"
    }
   ],
   "source": [
    "passGen()"
   ]
  },
  {
   "cell_type": "code",
   "execution_count": 187,
   "metadata": {},
   "outputs": [
    {
     "data": {
      "text/plain": [
       "'cZ\\x19\\x1a3s86m43o'"
      ]
     },
     "execution_count": 187,
     "metadata": {},
     "output_type": "execute_result"
    }
   ],
   "source": [
    "passGen()"
   ]
  },
  {
   "cell_type": "code",
   "execution_count": 188,
   "metadata": {},
   "outputs": [
    {
     "data": {
      "text/plain": [
       "'s31\\x1a593q0\\x17d1'"
      ]
     },
     "execution_count": 188,
     "metadata": {},
     "output_type": "execute_result"
    }
   ],
   "source": [
    "passGen()"
   ]
  }
 ],
 "metadata": {
  "kernelspec": {
   "display_name": "Python 3",
   "language": "python",
   "name": "python3"
  },
  "language_info": {
   "codemirror_mode": {
    "name": "ipython",
    "version": 3
   },
   "file_extension": ".py",
   "mimetype": "text/x-python",
   "name": "python",
   "nbconvert_exporter": "python",
   "pygments_lexer": "ipython3",
   "version": "3.8.5"
  }
 },
 "nbformat": 4,
 "nbformat_minor": 4
}
